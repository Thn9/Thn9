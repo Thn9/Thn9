{
  "nbformat": 4,
  "nbformat_minor": 0,
  "metadata": {
    "colab": {
      "name": "Nhóm 3",
      "provenance": [],
      "include_colab_link": true
    },
    "kernelspec": {
      "name": "python3",
      "display_name": "Python 3"
    },
    "language_info": {
      "name": "python"
    }
  },
  "cells": [
    {
      "cell_type": "markdown",
      "metadata": {
        "id": "view-in-github",
        "colab_type": "text"
      },
      "source": [
        "<a href=\"https://colab.research.google.com/github/Thn9/Thn9/blob/main/Nh%C3%B3m_3.ipynb\" target=\"_parent\"><img src=\"https://colab.research.google.com/assets/colab-badge.svg\" alt=\"Open In Colab\"/></a>"
      ]
    },
    {
      "cell_type": "code",
      "metadata": {
        "colab": {
          "base_uri": "https://localhost:8080/"
        },
        "id": "22jx9afcJ4IJ",
        "outputId": "d3e36042-26f1-4329-ed75-f7cbe492d724"
      },
      "source": [
        "print(\"Trung Hiếu\")\n",
        "import math\n",
        "x=int(input())\n",
        "print (\"sin(x) : \",  math.sin(x))"
      ],
      "execution_count": 19,
      "outputs": [
        {
          "output_type": "stream",
          "name": "stdout",
          "text": [
            "Trung Hiếu\n",
            "65\n",
            "sin(x) :  0.8268286794901034\n"
          ]
        }
      ]
    }
  ]
}